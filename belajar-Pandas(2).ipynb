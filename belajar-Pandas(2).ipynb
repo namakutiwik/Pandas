{
 "cells": [
  {
   "cell_type": "markdown",
   "metadata": {},
   "source": [
    "# Installation"
   ]
  },
  {
   "cell_type": "code",
   "execution_count": null,
   "metadata": {},
   "outputs": [],
   "source": [
    "!pip install pandas\n",
    "import pandas as pd\n",
    "pd.__version__"
   ]
  },
  {
   "cell_type": "code",
   "execution_count": null,
   "metadata": {},
   "outputs": [],
   "source": [
    "!pip install numpy\n",
    "import numpy as np\n",
    "np.__version__"
   ]
  },
  {
   "cell_type": "markdown",
   "metadata": {},
   "source": [
    "# Single array"
   ]
  },
  {
   "cell_type": "code",
   "execution_count": null,
   "metadata": {},
   "outputs": [],
   "source": [
    "np.arange(start=-50, stop=200, step=10)\n",
    "pd.Series(\n",
    "    [3,-5,7,4], \n",
    "    index=['a', 'b', 'c', 'd']\n",
    ")"
   ]
  },
  {
   "cell_type": "markdown",
   "metadata": {},
   "source": [
    "# Create data frame"
   ]
  },
  {
   "cell_type": "code",
   "execution_count": null,
   "metadata": {},
   "outputs": [],
   "source": [
    "df=pd.DataFrame(\n",
    "    {\n",
    "    'Name': pd.Series(['James', 'Albert', 'Sam']), \n",
    "     'Age':pd.Series([12,15,17])\n",
    "    }\n",
    ")\n",
    "df"
   ]
  },
  {
   "cell_type": "markdown",
   "metadata": {},
   "source": [
    "# Import data"
   ]
  },
  {
   "cell_type": "code",
   "execution_count": null,
   "metadata": {},
   "outputs": [],
   "source": [
    "data=pd.read_csv(r'E:\\Job\\IYKRA\\task\\modul4\\Ritz_Jager_Data.csv', index_col=None)\n",
    "data.head(5)"
   ]
  },
  {
   "cell_type": "markdown",
   "metadata": {},
   "source": [
    "# Export data"
   ]
  },
  {
   "cell_type": "code",
   "execution_count": null,
   "metadata": {},
   "outputs": [],
   "source": [
    "df.to_csv('namafileyangbaru.csv')"
   ]
  },
  {
   "cell_type": "markdown",
   "metadata": {},
   "source": [
    "# Selection"
   ]
  },
  {
   "cell_type": "code",
   "execution_count": null,
   "metadata": {},
   "outputs": [],
   "source": [
    "selection_column=data['hotel_type'] # by column\n",
    "type(selection_column)\n",
    "subset=data[['hotel_type']] # double [[]] converts to dataframe\n",
    "type(subset)"
   ]
  },
  {
   "cell_type": "code",
   "execution_count": null,
   "metadata": {},
   "outputs": [],
   "source": [
    "selection_column2=data.iloc[:,1:3]  # by index (row)\n",
    "selection_column2.head(2)"
   ]
  },
  {
   "cell_type": "code",
   "execution_count": null,
   "metadata": {},
   "outputs": [],
   "source": [
    "selection_row=data.iloc[1:2]\n",
    "selection_row.head(2)"
   ]
  },
  {
   "cell_type": "code",
   "execution_count": null,
   "metadata": {},
   "outputs": [],
   "source": [
    "selection=data.loc[1:2,['hotel_type','lead_time']]\n",
    "selection.head(2)\n",
    "data.loc[data['lead_time']>350,'lead_time']\n",
    "data.loc[1] #to find row"
   ]
  },
  {
   "cell_type": "code",
   "execution_count": null,
   "metadata": {},
   "outputs": [],
   "source": [
    "data[data['lead_time']==387]\n",
    "data[data['hotel_type']!='Resort Hotel']['lead_time']"
   ]
  },
  {
   "cell_type": "code",
   "execution_count": null,
   "metadata": {},
   "outputs": [],
   "source": [
    "# sign | means or\n",
    "# sign & means and\n",
    "data[(data['hotel_type']=='Resort Hotel')|data['lead_time']<350]"
   ]
  },
  {
   "cell_type": "code",
   "execution_count": null,
   "metadata": {},
   "outputs": [],
   "source": [
    "data[data['hotel_type'].isin(['Resort Hotel', 'City Hotel'])]"
   ]
  },
  {
   "cell_type": "code",
   "execution_count": null,
   "metadata": {},
   "outputs": [],
   "source": []
  },
  {
   "cell_type": "markdown",
   "metadata": {},
   "source": [
    "# Addition"
   ]
  },
  {
   "cell_type": "code",
   "execution_count": null,
   "metadata": {},
   "outputs": [],
   "source": [
    "#add column\n",
    "df['Number']=[1,2,3]\n",
    "df"
   ]
  },
  {
   "cell_type": "code",
   "execution_count": null,
   "metadata": {},
   "outputs": [],
   "source": [
    "#add row\n",
    "new=pd.DataFrame(\n",
    "    [['Tiwik', 30, 4]],\n",
    "    columns=['Name', 'Age', 'Number']              \n",
    ")\n",
    "df.append(new)"
   ]
  },
  {
   "cell_type": "markdown",
   "metadata": {},
   "source": [
    "# Deletion"
   ]
  },
  {
   "cell_type": "code",
   "execution_count": null,
   "metadata": {},
   "outputs": [],
   "source": [
    "df.drop(['Number', 'Age'], axis=1, inplace=True)"
   ]
  },
  {
   "cell_type": "code",
   "execution_count": null,
   "metadata": {},
   "outputs": [],
   "source": [
    "df.drop(0)"
   ]
  },
  {
   "cell_type": "code",
   "execution_count": null,
   "metadata": {},
   "outputs": [],
   "source": []
  },
  {
   "cell_type": "markdown",
   "metadata": {},
   "source": [
    "# Rename"
   ]
  },
  {
   "cell_type": "code",
   "execution_count": null,
   "metadata": {},
   "outputs": [],
   "source": [
    "df.rename(columns={'Age':'Umur'})\n",
    "df.columns=['nama', 'umur']\n",
    "df"
   ]
  },
  {
   "cell_type": "code",
   "execution_count": null,
   "metadata": {},
   "outputs": [],
   "source": [
    "df.rename(index={0:'control'})"
   ]
  },
  {
   "cell_type": "code",
   "execution_count": null,
   "metadata": {},
   "outputs": [],
   "source": [
    "df['Name'].is_unique\n",
    "df.set_index('Name') #set Name column to be index"
   ]
  },
  {
   "cell_type": "markdown",
   "metadata": {},
   "source": [
    "# Sorting"
   ]
  },
  {
   "cell_type": "code",
   "execution_count": null,
   "metadata": {},
   "outputs": [],
   "source": [
    "df.sort_index(ascending=False)"
   ]
  },
  {
   "cell_type": "code",
   "execution_count": null,
   "metadata": {},
   "outputs": [],
   "source": [
    "df.sort_values('Name', ascending=True)"
   ]
  },
  {
   "cell_type": "code",
   "execution_count": null,
   "metadata": {},
   "outputs": [],
   "source": [
    "df.rank() #based on entries rank"
   ]
  },
  {
   "cell_type": "markdown",
   "metadata": {},
   "source": [
    "# Applying Function"
   ]
  },
  {
   "cell_type": "code",
   "execution_count": null,
   "metadata": {},
   "outputs": [],
   "source": [
    "f=lambda x:x*2\n",
    "df.apply(f)\n",
    "df.applymap(f)"
   ]
  },
  {
   "cell_type": "code",
   "execution_count": null,
   "metadata": {},
   "outputs": [],
   "source": [
    "def tulis(x):\n",
    "    if x >= 8.0:\n",
    "        return \"delapan\"\n",
    "    else:\n",
    "        return \"bad\"\n",
    "\n",
    "tulis(2)"
   ]
  },
  {
   "cell_type": "markdown",
   "metadata": {},
   "source": [
    "# Basic Function"
   ]
  },
  {
   "cell_type": "code",
   "execution_count": null,
   "metadata": {},
   "outputs": [],
   "source": [
    "data.head(10)\n",
    "data.tail(5)"
   ]
  },
  {
   "cell_type": "code",
   "execution_count": null,
   "metadata": {},
   "outputs": [],
   "source": [
    "data.shape\n",
    "data.size\n",
    "data.ndim\n",
    "len(data)\n",
    "data.index\n",
    "data.columns"
   ]
  },
  {
   "cell_type": "code",
   "execution_count": null,
   "metadata": {},
   "outputs": [],
   "source": [
    "data.info()\n",
    "data.describe()['is_canceled']['std'] #column then row"
   ]
  },
  {
   "cell_type": "code",
   "execution_count": null,
   "metadata": {},
   "outputs": [],
   "source": [
    "data['lead_time'].abs()"
   ]
  },
  {
   "cell_type": "code",
   "execution_count": null,
   "metadata": {},
   "outputs": [],
   "source": [
    "data['lead_time'].mean()\n",
    "data['lead_time'].median()\n",
    "data['lead_time'].mode() "
   ]
  },
  {
   "cell_type": "code",
   "execution_count": null,
   "metadata": {},
   "outputs": [],
   "source": [
    "data['lead_time'].min()\n",
    "data['lead_time'].max()\n",
    "data['hotel_type'].count()"
   ]
  },
  {
   "cell_type": "code",
   "execution_count": null,
   "metadata": {},
   "outputs": [],
   "source": [
    "df.prod()\n",
    "df.cumsum()"
   ]
  },
  {
   "cell_type": "markdown",
   "metadata": {},
   "source": [
    "# Data Engineering"
   ]
  },
  {
   "cell_type": "code",
   "execution_count": null,
   "metadata": {},
   "outputs": [],
   "source": [
    "#handling missing data\n",
    "data.isnull().sum()\n",
    "data[pd.isnull(data['is_canceled'])]\n",
    "data.notnull()\n",
    "data.dropna() #column and row\n",
    "data.dropna(how='all') #only rows having all Na\n",
    "data.dropna(axis=1, how='any') #columns having minimum 1 Na, axis=0 is row\n",
    "data['lead_time'].fillna(5, inplace=True) # 5 is scalar value - using pandas, inplace=keep the changed data\n",
    "data['lead_time'].fillna(method='pad') #filling na with the previous value\n",
    "data['lead_time'].fillna(method='bfill') #filling na with the next value\n",
    "data['lead_time'].interpolate(method='linear', limit_direction='forward') #filling Na with linear method\n",
    "data.replace(to_replace=np.nan, value=0, inplace=True) #using numpy\n",
    "data.drop_duplicates(subset='hotel_type', inplace=True, keep='first') # first=keep the first, last=keep the last, false=drop all"
   ]
  },
  {
   "cell_type": "code",
   "execution_count": null,
   "metadata": {},
   "outputs": [],
   "source": [
    "data.hotel_type.unique()\n",
    "data['hotel_type'].value_counts()[:1] #default descending, for count unique"
   ]
  },
  {
   "cell_type": "code",
   "execution_count": null,
   "metadata": {},
   "outputs": [],
   "source": [
    "data['lead_time'].dtype\n",
    "data['lead_time'].astype('float')\n",
    "pd.to_numeric(data['country_origin'], errors='coerce') #if any strange data, force it to be Nan\n",
    "data.apply(pd.to_numeric, errors='coerce').replace(np.nan,0) #for entire data, use apply\n",
    "data.index.tolist()"
   ]
  },
  {
   "cell_type": "code",
   "execution_count": null,
   "metadata": {},
   "outputs": [],
   "source": [
    "data.corr() #correlation"
   ]
  },
  {
   "cell_type": "markdown",
   "metadata": {},
   "source": [
    "# Data Wrangling"
   ]
  },
  {
   "cell_type": "code",
   "execution_count": null,
   "metadata": {},
   "outputs": [],
   "source": [
    "#preparation\n",
    "data_w1=pd.DataFrame(\n",
    "    {\n",
    "     'Customer_id': pd.Series([1,2,3,4,5,6]), \n",
    "     'Product':pd.Series(['oven', 'oven', 'oven', 'tv', 'tv', 'tv'])\n",
    "    }\n",
    ")\n",
    "data_w1\n",
    "\n",
    "data_w2=pd.DataFrame(\n",
    "    {\n",
    "     'Customer_id':pd.Series([2,4,6]),\n",
    "     'State':pd.Series(['California', 'California', 'Texas'])\n",
    "    }\n",
    ")\n",
    "data_w2"
   ]
  },
  {
   "cell_type": "code",
   "execution_count": null,
   "metadata": {},
   "outputs": [],
   "source": [
    "pd.merge(data_w1, data_w2, on='Customer_id', how='inner')\n",
    "pd.merge(data_w1, data_w2, on='Customer_id', how='outer')\n",
    "pd.merge(data_w1, data_w2, on='Customer_id', how='left')\n",
    "pd.merge(data_w1, data_w2, on='Customer_id', how='right')"
   ]
  },
  {
   "cell_type": "code",
   "execution_count": null,
   "metadata": {},
   "outputs": [],
   "source": [
    "pd.concat([data_w1, data_w2], join='inner')\n",
    "pd.concat([data_w1, data_w2], join='outer')"
   ]
  },
  {
   "cell_type": "code",
   "execution_count": null,
   "metadata": {},
   "outputs": [],
   "source": [
    "#unstack to return the dataframe\n",
    "#size to count\n",
    "#reset index to clean up index\n",
    "data.groupby(['hotel_type', 'is_canceled']).size().unstack().reset_index()"
   ]
  },
  {
   "cell_type": "code",
   "execution_count": null,
   "metadata": {},
   "outputs": [],
   "source": [
    "#pivot the the mean aggregated values, by default\n",
    "pivot=data.pivot_table(index='arrival_date_year', columns='hotel_type', values='lead_time', aggfunc=np.median)\n",
    "pivot.plot(kind='box')\n",
    "plt.show()"
   ]
  },
  {
   "cell_type": "code",
   "execution_count": null,
   "metadata": {},
   "outputs": [],
   "source": []
  },
  {
   "cell_type": "markdown",
   "metadata": {},
   "source": [
    "# Data Visualization"
   ]
  },
  {
   "cell_type": "code",
   "execution_count": null,
   "metadata": {},
   "outputs": [],
   "source": [
    "#instal matplotlib\n",
    "!pip install matplotlib\n",
    "import matplotlib.pyplot as plt\n",
    "%matplotlib inline\n",
    "import matplotlib\n",
    "matplotlib.__version__"
   ]
  },
  {
   "cell_type": "code",
   "execution_count": null,
   "metadata": {},
   "outputs": [],
   "source": [
    "#2 continues variables\n",
    "bivariate=pd.DataFrame(\n",
    "    {\n",
    "    'unemployment_rate': pd.Series([6.1,5.8,5.7,5.7,5.8,5.6,5.5,5.3,5.2,5.2]),\n",
    "    'stock_index_price': pd.Series([1500,1520,1525,1523,1515,1540,1545,1560,1555,1565])    \n",
    "    }\n",
    ")\n",
    "bivariate\n",
    "#time series\n",
    "ts=pd.DataFrame(\n",
    "{\n",
    "    'year':pd.Series([1920,1930,1940,1950,1960,1970,1980,1990,2000,2010]),\n",
    "    'unemployment_rate':pd.Series([9.8,12,8,7.2,6.9,7,6.5,6.2,5.5,6.3])\n",
    "}\n",
    ")\n",
    "ts"
   ]
  },
  {
   "cell_type": "code",
   "execution_count": null,
   "metadata": {},
   "outputs": [],
   "source": [
    "#scatter plot: for 2 numerical variables\n",
    "bivariate.plot(x='unemployment_rate', y='stock_index_price', kind='scatter', title='judul')\n",
    "plt.show()"
   ]
  },
  {
   "cell_type": "code",
   "execution_count": null,
   "metadata": {},
   "outputs": [],
   "source": [
    "#line: for time series\n",
    "ts.plot(x='year', y='unemployment_rate', kind='line')\n",
    "plt.show()"
   ]
  },
  {
   "cell_type": "code",
   "execution_count": null,
   "metadata": {},
   "outputs": [],
   "source": [
    "#bar chart: for 1 categorical, 1 numerical\n",
    "df.plot(x='Name', y='Age', kind='bar')\n",
    "plt.show()"
   ]
  },
  {
   "cell_type": "code",
   "execution_count": null,
   "metadata": {},
   "outputs": [],
   "source": [
    "#pie chart\n",
    "df.plot.pie(y='Age',\n",
    "            labels=df['Name'],\n",
    "            figsize=(5, 5),\n",
    "            autopct='%1.1f%%', \n",
    "            startangle=90)\n",
    "plt.show()"
   ]
  },
  {
   "cell_type": "code",
   "execution_count": null,
   "metadata": {},
   "outputs": [],
   "source": [
    "#boxplot: to find outliers\n",
    "plt.boxplot(data['lead_time']) #x axis=based on index, aletrnative 1\n",
    "plt.show()\n",
    "Q1=data['lead_time'].quantile(0.25)\n",
    "Q3=data['lead_time'].quantile(0.75)\n",
    "IQR=Q3-Q1\n",
    "lower_bound=Q1-1.5*IQR\n",
    "upper_bound=Q3+1.5*IQR\n",
    "outliers_l=data[data['lead_time']>upper_bound]\n",
    "outliers_u=data[data['lead_time']<lower_bound]\n",
    "outliers_l\n",
    "data[lead_time].plot(kind='box') # altervative 2"
   ]
  },
  {
   "cell_type": "code",
   "execution_count": null,
   "metadata": {},
   "outputs": [],
   "source": [
    "#multiple box plot\n",
    "data.boxplot(column='adults', by='hotel_type')\n",
    "plt.show()"
   ]
  },
  {
   "cell_type": "code",
   "execution_count": null,
   "metadata": {},
   "outputs": [],
   "source": [
    "#histogram: to count the variable in a plot\n",
    "#2 cont. variable\n",
    "data.lead_time.hist(bins=10, figsize=[14,6]) # alternative 1\n",
    "plt.hist(data['lead_time'], # alternative 2\n",
    "        facecolor='peru',\n",
    "        edgecolor='blue',\n",
    "        bins=10)# `bins` could define the start and end points of bins [0,10,20]\n",
    "data['lead_time'].plot(kind='hist', title='judul') # alternative 3\n",
    "plt.show()"
   ]
  },
  {
   "cell_type": "code",
   "execution_count": null,
   "metadata": {},
   "outputs": [],
   "source": [
    "#multiple histogram: to know the distribution between 2 variables\n",
    "plt.hist(data['lead_time'], \n",
    "        facecolor='peru',\n",
    "        edgecolor='blue',\n",
    "        bins=10)\n",
    "plt.hist(data['arrival_date_week_number'], \n",
    "        facecolor='orangered',\n",
    "        edgecolor='maroon',\n",
    "        bins=10,\n",
    "        alpha=0.4)\n",
    "plt.show()"
   ]
  },
  {
   "cell_type": "code",
   "execution_count": null,
   "metadata": {},
   "outputs": [],
   "source": []
  }
 ],
 "metadata": {
  "kernelspec": {
   "display_name": "Python 3",
   "language": "python",
   "name": "python3"
  },
  "language_info": {
   "codemirror_mode": {
    "name": "ipython",
    "version": 3
   },
   "file_extension": ".py",
   "mimetype": "text/x-python",
   "name": "python",
   "nbconvert_exporter": "python",
   "pygments_lexer": "ipython3",
   "version": "3.7.6"
  }
 },
 "nbformat": 4,
 "nbformat_minor": 4
}
